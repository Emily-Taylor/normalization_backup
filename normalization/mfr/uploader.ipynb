{
 "cells": [
  {
   "cell_type": "code",
   "execution_count": null,
   "metadata": {},
   "outputs": [],
   "source": [
    "import re\n",
    "import json\n",
    "def multiple_replace(text, adict):\n",
    "    rx = re.compile('|'.join(map(re.escape, adict)))\n",
    "    def one_xlat(match):\n",
    "        return adict[match.group(0)]\n",
    "    return rx.sub(one_xlat, text)\n",
    "\n",
    "\n",
    "\n",
    "def clean_suffix(name: str):\n",
    "    #adict = {'inc.':'','inc':'','corp.':'','corp':'','ltd.':'','ltd':'','llc.':'','llc':'','limited.':'','limited':'',   'co.':'',' co':''}\n",
    "    #name = multiple_replace(name,adict)\n",
    "    name = name.strip()\n",
    "    return name.encode('utf-8')"
   ]
  },
  {
   "cell_type": "code",
   "execution_count": null,
   "metadata": {},
   "outputs": [],
   "source": [
    "clean_suffix(\"something corp.\")"
   ]
  },
  {
   "cell_type": "code",
   "execution_count": null,
   "metadata": {},
   "outputs": [],
   "source": [
    "with open(\"/home/username/projects/sourcingbot/normalization_service/normalization/mfr/companies-clean-array.json\", \"r\", encoding=\"utf-8\") as f:\n",
    "    #lines = f.read().splitlines()\n",
    "    data = json.load(f)"
   ]
  },
  {
   "cell_type": "code",
   "execution_count": null,
   "metadata": {},
   "outputs": [],
   "source": [
    "from collections import Counter\n",
    "\n",
    "\n",
    "for c in data:\n",
    "    if len(c) == 1:\n",
    "        #print(clean_suffix(c[0]))\n",
    "        pass\n",
    "    if len(c) >1:\n",
    "        text= \" \".join(c)\n",
    "        print(Counter(text.split()).most_common()[0][0])"
   ]
  },
  {
   "cell_type": "code",
   "execution_count": null,
   "metadata": {},
   "outputs": [],
   "source": []
  },
  {
   "cell_type": "code",
   "execution_count": null,
   "metadata": {},
   "outputs": [],
   "source": [
    "import requests\n",
    "from requests_aws_sign import AWSV4Sign\n",
    "from boto3 import session\n",
    "\n",
    "session = session.Session()\n",
    "credentials = session.get_credentials()"
   ]
  },
  {
   "cell_type": "code",
   "execution_count": null,
   "metadata": {},
   "outputs": [],
   "source": []
  },
  {
   "cell_type": "code",
   "execution_count": null,
   "metadata": {},
   "outputs": [],
   "source": [
    "# API Gateway execute settings\n",
    "uri =  \"https://app-dev.sourcingbot.com/entity/parts/3a28e928dc684b8b2ddc5ecec1582c7216f3c332\"\n",
    "headers={\"Content-Type\":\"application/json\"}\n",
    "payload = \"{}\"\n",
    "service = 'execute-api'\n",
    "region = session.region_name or 'eu-central-1'\n",
    "auth=AWSV4Sign(credentials, region, service)\n",
    "response = requests.get(uri, auth=auth, headers=headers)\n",
    "print(response.text)\n",
    "    "
   ]
  },
  {
   "cell_type": "code",
   "execution_count": null,
   "metadata": {},
   "outputs": [],
   "source": [
    "import random\n",
    "import asyncio\n",
    "from aiohttp import ClientSession\n",
    "\n",
    "class Alias:\n",
    "    def __init__(self, name,alias):\n",
    "        self.name = name\n",
    "        self.alias = alias\n",
    "    async def send(self):\n",
    "        uri =  \"https://app-dev.sourcingbot.com/entity/manufacturer\"\n",
    "        headers={\"Content-Type\":\"application/json\"}\n",
    "        payload = \"{}\"\n",
    "        service = 'execute-api'\n",
    "        auth=AWSV4Sign(credentials, region, service)\n",
    "        data =json.dumps(self.__dict__)\n",
    "        response = requests.post(uri, auth=auth, headers=headers,data=data)\n",
    "        return response\n",
    "    \n",
    "    async def fetch(self):\n",
    "        uri =  \"https://app-dev.sourcingbot.com/entity/manufacturer\"\n",
    "        headers={\"Content-Type\":\"application/json\"}\n",
    "        service = 'execute-api'\n",
    "        auth=AWSV4Sign(credentials, region, service)\n",
    "        data =self.__dict__\n",
    "        async with session.post(uri, auth=auth, headers=headers,json=data) as response:\n",
    "            return await response.read()\n",
    "           "
   ]
  },
  {
   "cell_type": "code",
   "execution_count": null,
   "metadata": {},
   "outputs": [],
   "source": [
    "#alias = Alias('nmb technologies','nmb technologies corp.')\n",
    "alias = Alias('nmb technologies','nmb technologies corporation')\n",
    "json.dumps(alias.__dict__)\n",
    "res =alias.fetch()\n",
    "res.read()"
   ]
  },
  {
   "cell_type": "code",
   "execution_count": null,
   "metadata": {},
   "outputs": [],
   "source": []
  },
  {
   "cell_type": "code",
   "execution_count": null,
   "metadata": {},
   "outputs": [],
   "source": [
    "\n"
   ]
  },
  {
   "cell_type": "code",
   "execution_count": null,
   "metadata": {},
   "outputs": [],
   "source": [
    "for future in asyncio.as_completed(map(fetch, data)):\n",
    "    result = await future"
   ]
  },
  {
   "cell_type": "code",
   "execution_count": null,
   "metadata": {},
   "outputs": [],
   "source": [
    "\n",
    "\n",
    "for entry in data:\n",
    "    if len(entry) ==1:\n",
    "        alias = Alias(entry[0],entry[0])\n",
    "        print(json.dumps(alias.__dict__))\n",
    "        res = alias.fetch()\n",
    "        print(res)\n",
    "        #if not res.ok:\n",
    "        #    print(\"error trying to send: \\n\")\n",
    "        #    print(json.dumps(alias.__dict__))\n",
    "\n",
    "    else:\n",
    "        for name in entry:\n",
    "            alias = Alias(entry[0],name)\n",
    "            res = alias.fetch()\n",
    "            print(res)\n",
    "            #if not res.ok:\n",
    "            #    print(\"error trying to send: \\n\")\n",
    "            #    print(json.dumps(alias.__dict__))\n"
   ]
  },
  {
   "cell_type": "code",
   "execution_count": null,
   "metadata": {},
   "outputs": [],
   "source": []
  },
  {
   "cell_type": "code",
   "execution_count": null,
   "metadata": {},
   "outputs": [],
   "source": [
    "def get_alias(name):\n",
    "    uri =  \"https://app-dev.sourcingbot.com/entity/manufacturer/alias/\"+name\n",
    "    headers={\"Content-Type\":\"application/json\"}\n",
    "    payload = \"{}\"\n",
    "    service = 'execute-api'\n",
    "    auth=AWSV4Sign(credentials, region, service)\n",
    "    response = requests.get(uri, auth=auth, headers=headers)\n",
    "    return response"
   ]
  },
  {
   "cell_type": "code",
   "execution_count": null,
   "metadata": {},
   "outputs": [],
   "source": [
    "get_alias(\"nmb technologies corp.\")"
   ]
  },
  {
   "cell_type": "code",
   "execution_count": null,
   "metadata": {},
   "outputs": [],
   "source": []
  },
  {
   "cell_type": "code",
   "execution_count": null,
   "metadata": {},
   "outputs": [],
   "source": []
  },
  {
   "cell_type": "code",
   "execution_count": null,
   "metadata": {},
   "outputs": [],
   "source": []
  },
  {
   "cell_type": "code",
   "execution_count": null,
   "metadata": {},
   "outputs": [],
   "source": []
  },
  {
   "cell_type": "code",
   "execution_count": null,
   "metadata": {},
   "outputs": [],
   "source": [
    "    262 /\n",
    "    112 electronics\",\n",
    "    100 \n",
    "     99 inc.\",\n",
    "     89 inc\",\n",
    "     78 connectivity\",\n",
    "     78 technology\",\n",
    "     75 -\n",
    "     74 corporation\",\n",
    "     73 te\n",
    "     68 technologies\",\n",
    "     59 semiconductor\",\n",
    "     53 systems\",\n",
    "     47 ltd\",\n",
    "     43 electronics\n",
    "     42 &\n",
    "     40 industries\",\n",
    "     40 solutions\",\n",
    "     39 technology\n",
    "     37 power\n",
    "     33 tools\",\n",
    "     30 components\",\n",
    "     29 llc\",\n",
    "     29 power\",\n",
    "     29 technologies\n",
    "     28 co.,\n",
    "     28 company\",\n",
    "     28 products\",\n",
    "     26 \"amphenol\n",
    "     26 international\",\n",
    "     25 devices\",\n",
    "     25 \"te\n",
    "     24 electric\",\n",
    "     23 cable\",\n",
    "     23 instruments\",\n",
    "     23 semiconductor\n",
    "     22 wire\",\n",
    "     21 vishay\",\n",
    "     20 a\n",
    "     20 connectivity\n",
    "     18 \",\n",
    "     18 electronic\n",
    "     18 gmbh\",\n",
    "     18 labs\",\n",
    "     17 and\n",
    "     17 connectors\",\n",
    "     15 controls\",\n",
    "     15 \"molex\n",
    "     15 systems\n",
    "     15 technologies,\n",
    "     14 \"american\n",
    "     14 communications\",\n",
    "     14 connectivity's\n",
    "     14 molex\n",
    "     12 by\n",
    "     12 electric\n",
    "     12 engineering\",\n",
    "     12 group\",\n",
    "     12 honeywell\",\n",
    "     12 limited\",\n",
    "     12 ltd.\",\n",
    "     12 tech\",\n",
    "     12 wire\n",
    "     11 \"advanced\n",
    "     11 manufacturing\",\n",
    "     11 on\n",
    "     10 ag\",\n",
    "     10 amphenol\",\n",
    "     10 cinch\n",
    "     10 corp.\",\n",
    "     10 corp\",\n",
    "     10 electronic\",\n",
    "     10 \"general\n",
    "     10 sensors\",\n",
    "      9 america\",\n",
    "      9 (amphenol\n",
    "      9 \"cooper\n",
    "      9 electrical\n",
    "      9 electronics,\n",
    "      9 enclosures\",\n",
    "      9 inc.\n",
    "      9 international\n",
    "      9 lighting\",\n",
    "      9 of\n",
    "      9 relays\",\n",
    "      9 semiconductors\",\n",
    "      9 \"vishay\n",
    "      8 cable\n",
    "      8 industrial\n",
    "      8 interconnect\n",
    "      8 \"laird\n",
    "      8 networks\",\n",
    "      8 relays\n",
    "      7 components\n",
    "      7 control\",\n",
    "      7 devices\n",
    "      7 \"ge\n",
    "      7 incorporated\",\n",
    "      7 \"integrated\n",
    "      7 \"international\n",
    "\n",
    "a"
   ]
  },
  {
   "cell_type": "code",
   "execution_count": null,
   "metadata": {},
   "outputs": [],
   "source": []
  },
  {
   "cell_type": "code",
   "execution_count": null,
   "metadata": {},
   "outputs": [],
   "source": [
    "\n"
   ]
  },
  {
   "cell_type": "code",
   "execution_count": null,
   "metadata": {},
   "outputs": [],
   "source": []
  },
  {
   "cell_type": "code",
   "execution_count": null,
   "metadata": {},
   "outputs": [],
   "source": []
  }
 ],
 "metadata": {
  "kernelspec": {
   "display_name": "Python 3",
   "language": "python",
   "name": "python3"
  },
  "language_info": {
   "codemirror_mode": {
    "name": "ipython",
    "version": 3
   },
   "file_extension": ".py",
   "mimetype": "text/x-python",
   "name": "python",
   "nbconvert_exporter": "python",
   "pygments_lexer": "ipython3",
   "version": "3.6.3"
  }
 },
 "nbformat": 4,
 "nbformat_minor": 2
}
