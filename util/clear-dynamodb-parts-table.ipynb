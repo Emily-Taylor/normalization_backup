{
 "cells": [
  {
   "cell_type": "code",
   "execution_count": null,
   "metadata": {},
   "outputs": [],
   "source": [
    "from __future__ import print_function # Python 2/3 compatibility\n",
    "import boto3\n",
    "from botocore.exceptions import ClientError\n",
    "import json\n",
    "import decimal\n",
    "\n",
    "# Helper class to convert a DynamoDB item to JSON.\n",
    "class DecimalEncoder(json.JSONEncoder):\n",
    "    def default(self, o):\n",
    "        if isinstance(o, decimal.Decimal):\n",
    "            if o % 1 > 0:\n",
    "                return float(o)\n",
    "            else:\n",
    "                return int(o)\n",
    "        return super(DecimalEncoder, self).default(o)\n",
    "\n",
    "dynamodb = boto3.resource('dynamodb', region_name='eu-central-1')"
   ]
  },
  {
   "cell_type": "code",
   "execution_count": null,
   "metadata": {},
   "outputs": [],
   "source": [
    "def scan_table(table_name, filter_key=None, filter_value=None):\n",
    "    \"\"\"\n",
    "    Perform a scan operation on table.\n",
    "    Can specify filter_key (col name) and its value to be filtered.\n",
    "    \"\"\"\n",
    "    table = dynamodb.Table(table_name)\n",
    "\n",
    "    if filter_key and filter_value:\n",
    "        filtering_exp = Key(filter_key).eq(filter_value)\n",
    "        response = table.scan(FilterExpression=filtering_exp)\n",
    "    else:\n",
    "        response = table.scan()\n",
    "\n",
    "    return response\n"
   ]
  },
  {
   "cell_type": "code",
   "execution_count": null,
   "metadata": {},
   "outputs": [],
   "source": [
    "def get_table_metadata(table_name):\n",
    "    \"\"\"\n",
    "    Get some metadata about chosen table.\n",
    "    \"\"\"\n",
    "    table = dynamodb.Table(table_name)\n",
    "\n",
    "    return {\n",
    "        'num_items': table.item_count,\n",
    "        'primary_key_name': table.key_schema[0],\n",
    "        'status': table.table_status,\n",
    "        'bytes_size': table.table_size_bytes,\n",
    "        'global_secondary_indices': table.global_secondary_indexes\n",
    "    }"
   ]
  },
  {
   "cell_type": "code",
   "execution_count": null,
   "metadata": {},
   "outputs": [],
   "source": [
    "def read_table_item(table_name, pk_name, pk_value):\n",
    "    \"\"\"\n",
    "    Return item read by primary key.\n",
    "    \"\"\"\n",
    "    table = dynamodb.Table(table_name)\n",
    "    response = table.get_item(Key={pk_name: pk_value})\n",
    "\n",
    "    return response\n",
    "\n",
    "\n",
    "def add_item(table_name, col_dict):\n",
    "    \"\"\"\n",
    "    Add one item (row) to table. col_dict is a dictionary {col_name: value}.\n",
    "    \"\"\"\n",
    "    table = dynamodb.Table(table_name)\n",
    "    response = table.put_item(Item=col_dict)\n",
    "\n",
    "    return response\n",
    "\n",
    "\n",
    "def delete_item(table_name, pk_name, pk_value):\n",
    "    \"\"\"\n",
    "    Delete an item (row) in table from its primary key.\n",
    "    \"\"\"\n",
    "    table = dynamodb.Table(table_name)\n",
    "    response = table.delete_item(Key={pk_name: pk_value})\n",
    "\n",
    "    return"
   ]
  },
  {
   "cell_type": "code",
   "execution_count": null,
   "metadata": {},
   "outputs": [],
   "source": [
    "def query_table(table_name, filter_key=None, filter_value=None):\n",
    "    \"\"\"\n",
    "    Perform a query operation on the table. \n",
    "    Can specify filter_key (col name) and its value to be filtered.\n",
    "    \"\"\"\n",
    "    table = dynamodb_resource.Table(table_name)\n",
    "\n",
    "    if filter_key and filter_value:\n",
    "        filtering_exp = Key(filter_key).eq(filter_value)\n",
    "        response = table.query(KeyConditionExpression=filtering_exp)\n",
    "    else:\n",
    "        response = table.query()\n",
    "\n",
    "    return response"
   ]
  },
  {
   "cell_type": "code",
   "execution_count": null,
   "metadata": {},
   "outputs": [],
   "source": [
    "def scan_table_allpages(table_name, filter_key=None, filter_value=None):\n",
    "    \"\"\"\n",
    "    Perform a scan operation on table. \n",
    "    Can specify filter_key (col name) and its value to be filtered. \n",
    "    This gets all pages of results. Returns list of items.\n",
    "    \"\"\"\n",
    "    table = dynamodb.Table(table_name)\n",
    "\n",
    "    if filter_key and filter_value:\n",
    "        filtering_exp = Key(filter_key).eq(filter_value)\n",
    "        response = table.scan(FilterExpression=filtering_exp)\n",
    "    else:\n",
    "        response = table.scan()\n",
    "\n",
    "    items = response['Items']\n",
    "    while True:\n",
    "        print(len(response['Items']))\n",
    "        if response.get('LastEvaluatedKey'):\n",
    "            response = table.scan(ExclusiveStartKey=response['LastEvaluatedKey'])\n",
    "            items += response['Items']\n",
    "        else:\n",
    "            break\n",
    "\n",
    "    return items"
   ]
  },
  {
   "cell_type": "code",
   "execution_count": null,
   "metadata": {},
   "outputs": [],
   "source": [
    "def batch_delete_all_data(table_name, filter_key=None, filter_value=None):\n",
    "    table = dynamodb.Table(table_name)\n",
    "    parts = scan_table_allpages(table_name,filter_key='id')\n",
    "    with table.batch_writer() as batch:\n",
    "        for p in parts:\n",
    "            pk_name = 'id'\n",
    "            pk_value= p['id']\n",
    "            batch.delete_item(Key={pk_name: pk_value})"
   ]
  },
  {
   "cell_type": "code",
   "execution_count": null,
   "metadata": {},
   "outputs": [],
   "source": [
    "batch_delete_all_data('parts')"
   ]
  },
  {
   "cell_type": "code",
   "execution_count": null,
   "metadata": {},
   "outputs": [],
   "source": []
  },
  {
   "cell_type": "code",
   "execution_count": null,
   "metadata": {},
   "outputs": [],
   "source": []
  }
 ],
 "metadata": {
  "kernelspec": {
   "display_name": "Python 3",
   "language": "python",
   "name": "python3"
  },
  "language_info": {
   "codemirror_mode": {
    "name": "ipython",
    "version": 3
   },
   "file_extension": ".py",
   "mimetype": "text/x-python",
   "name": "python",
   "nbconvert_exporter": "python",
   "pygments_lexer": "ipython3",
   "version": "3.6.3"
  }
 },
 "nbformat": 4,
 "nbformat_minor": 2
} 