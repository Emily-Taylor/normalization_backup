{
 "cells": [
  {
   "cell_type": "code",
   "execution_count": null,
   "metadata": {
    "scrolled": true
   },
   "outputs": [],
   "source": [
    "import json\n",
    "#import requests\n",
    "from requests_aws_sign import AWSV4Sign\n",
    "from boto3 import session\n",
    "import aiohttp\n",
    "\n",
    "# Establish credentials\n",
    "session = session.Session()\n",
    "credentials = session.get_credentials()\n",
    "region = session.region_name or 'eu-central-1'\n",
    "\n",
    "URL =  \"https://app-dev.sourcingbot.com/entity/manufacturer\"\n",
    "headers={\"Content-Type\":\"application/json\"}\n",
    "service = 'execute-api'\n",
    "auth=AWSV4Sign(credentials, region, service)\n"
   ]
  },
  {
   "cell_type": "code",
   "execution_count": null,
   "metadata": {},
   "outputs": [],
   "source": [
    "with open(\"/home/username/projects/sourcingbot/normalization_service/normalization/mfr/companies-clean-array.json\", \"r\", encoding=\"utf-8\") as f:\n",
    "    #lines = f.read().splitlines()\n",
    "    data = json.load(f)"
   ]
  },
  {
   "cell_type": "code",
   "execution_count": null,
   "metadata": {},
   "outputs": [],
   "source": [
    "@asyncio.coroutine\n",
    "async def post_data(data):\n",
    "    async with aiohttp.ClientSession() as session:\n",
    "            async with session.post(url=URL, auth=auth, headers=headers, json=data) as resp:\n",
    "                    return await resp\n",
    "\n",
    "\n",
    "class Alias:\n",
    "    def __init__(self, name,alias):\n",
    "        self.name = name\n",
    "        self.alias = alias\n",
    "    async def send(self):\n",
    "        uri =  \"https://app-dev.sourcingbot.com/entity/manufacturer\"\n",
    "        headers={\"Content-Type\":\"application/json\"}\n",
    "        payload = \"{}\"\n",
    "        service = 'execute-api'\n",
    "        auth=AWSV4Sign(credentials, region, service)\n",
    "        data =json.dumps(self.__dict__)\n",
    "        response = requests.post(uri, auth=auth, headers=headers,data=data)\n",
    "        return response\n",
    "\n",
    "    @asyncio.coroutine\n",
    "    async def post_data(self):\n",
    "        async with aiohttp.ClientSession() as session:\n",
    "                data =self.__dict__\n",
    "                async with session.post(url=URL, auth=auth, headers=headers, json=data) as resp:\n",
    "                        return await resp\n",
    "\n",
    "    async def post(self):\n",
    "        uri =  \"https://app-dev.sourcingbot.com/entity/manufacturer\"\n",
    "        data =self.__dict__\n",
    "        async with session.post(uri, auth=auth, headers=headers,json=data) as response:\n",
    "            return await response.read()"
   ]
  },
  {
   "cell_type": "code",
   "execution_count": null,
   "metadata": {},
   "outputs": [],
   "source": [
    "alias = Alias(\"Test\",\"test\")"
   ]
  },
  {
   "cell_type": "code",
   "execution_count": null,
   "metadata": {},
   "outputs": [],
   "source": [
    "res = await post_data(alias)"
   ]
  },
  {
   "cell_type": "code",
   "execution_count": null,
   "metadata": {},
   "outputs": [],
   "source": []
  },
  {
   "cell_type": "code",
   "execution_count": null,
   "metadata": {},
   "outputs": [],
   "source": [
    "res"
   ]
  },
  {
   "cell_type": "code",
   "execution_count": null,
   "metadata": {},
   "outputs": [],
   "source": []
  },
  {
   "cell_type": "code",
   "execution_count": null,
   "metadata": {},
   "outputs": [],
   "source": []
  }
 ],
 "metadata": {
  "kernelspec": {
   "display_name": "Python 3",
   "language": "python",
   "name": "python3"
  },
  "language_info": {
   "codemirror_mode": {
    "name": "ipython",
    "version": 3
   },
   "file_extension": ".py",
   "mimetype": "text/x-python",
   "name": "python",
   "nbconvert_exporter": "python",
   "pygments_lexer": "ipython3",
   "version": "3.6.3"
  }
 },
 "nbformat": 4,
 "nbformat_minor": 2
}
