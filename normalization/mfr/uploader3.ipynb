{
 "cells": [
  {
   "cell_type": "code",
   "execution_count": null,
   "metadata": {},
   "outputs": [],
   "source": [
    "import json\n",
    "# aiohttp doesn't work nicely with aws v4 signed request\n",
    "import asyncio\n",
    "import concurrent.futures\n",
    "from concurrent.futures import ProcessPoolExecutor, as_completed\n",
    "import requests\n",
    "from requests_aws_sign import AWSV4Sign\n",
    "from boto3 import session\n",
    "#from tqdm import tqdm\n",
    "import os,sys\n",
    "import threading\n",
    "\n",
    "import signal\n",
    "signal.signal(signal.SIGINT, signal.SIG_DFL)\n"
   ]
  },
  {
   "cell_type": "code",
   "execution_count": null,
   "metadata": {},
   "outputs": [],
   "source": [
    "\n",
    "# Establish credentials\n",
    "session = session.Session()\n",
    "credentials = session.get_credentials()\n",
    "region = session.region_name or 'eu-central-1'\n",
    "\n",
    "def post_data(data):\n",
    "    uri =  \"https://app-dev.sourcingbot.com/entity/manufacturer\"\n",
    "#    uri =  \"http://localhost:3000/entity/manufacturer\"\n",
    "    headers={\"Content-Type\":\"application/json\"}\n",
    "    service = 'execute-api'\n",
    "    auth=AWSV4Sign(credentials, region, service)\n",
    "    response = requests.post(uri,auth=auth, headers=headers,json=data)\n",
    "    return response\n"
   ]
  },
  {
   "cell_type": "code",
   "execution_count": null,
   "metadata": {},
   "outputs": [],
   "source": [
    "\n",
    "\n",
    "def process(data):\n",
    "    #print(\"original data: \" str(data))\n",
    "    response = []\n",
    "    if len(data) ==1:\n",
    "        data  = { \"name\": data[0], \"alias\": data[0]}\n",
    "        #print(json.dumps(data))\n",
    "        response.append(post_data(data))\n",
    "\n",
    "    elif  len(data) >1:\n",
    "        first = data[0]\n",
    "        for name in data:\n",
    "            #print(\"name: {0}\".format(name))\n",
    "            #print(\"data: {0}\".format(str(data)))\n",
    "            data  = { \"name\":first, \"alias\": name}\n",
    "            #print(json.dumps(data))\n",
    "            response.append(post_data(data))\n",
    "    return response\n",
    "\n",
    "\n"
   ]
  },
  {
   "cell_type": "code",
   "execution_count": null,
   "metadata": {},
   "outputs": [],
   "source": [
    "__location__ = os.path.realpath(os.path.join(os.getcwd(), os.path.dirname('./')))\n",
    "with open(os.path.join(__location__, \"companies-clean-array-v2.json\"), \"r\", encoding=\"utf-8\") as f:\n",
    "    data = json.load(f)\n"
   ]
  },
  {
   "cell_type": "code",
   "execution_count": null,
   "metadata": {},
   "outputs": [],
   "source": [
    "results = process(data[:10])\n",
    "print(results[0:10])"
   ]
  },
  {
   "cell_type": "code",
   "execution_count": null,
   "metadata": {},
   "outputs": [],
   "source": [
    "results[0].text"
   ]
  },
  {
   "cell_type": "code",
   "execution_count": null,
   "metadata": {},
   "outputs": [],
   "source": []
  },
  {
   "cell_type": "code",
   "execution_count": null,
   "metadata": {},
   "outputs": [],
   "source": [
    "import json\n",
    "# aiohttp doesn't work nicely with aws v4 signed request\n",
    "import asyncio\n",
    "import concurrent.futures\n",
    "from concurrent.futures import ProcessPoolExecutor, as_completed\n",
    "import requests\n",
    "from requests_aws_sign import AWSV4Sign\n",
    "from boto3 import session\n",
    "#from tqdm import tqdm\n",
    "import os,sys\n",
    "import threading\n",
    "\n",
    "import signal\n",
    "signal.signal(signal.SIGINT, signal.SIG_DFL)\n",
    "\n",
    "# Establish credentials\n",
    "session = session.Session()\n",
    "credentials = session.get_credentials()\n",
    "region = session.region_name or 'eu-central-1'\n",
    "\n",
    "def post_data(data):\n",
    "    uri =  \"https://app.sourcingbot.com/entity/manufacturer\"\n",
    "#    uri =  \"http://localhost:3000/entity/manufacturer\"\n",
    "    headers={\"Content-Type\":\"application/json\"}\n",
    "    service = 'execute-api'\n",
    "    auth=AWSV4Sign(credentials, region, service)\n",
    "    response = requests.post(uri, auth=auth, headers=headers,json=data)\n",
    "    return response\n",
    "\n",
    "\n",
    "def process(data):\n",
    "    #print(\"original data: \" str(data))\n",
    "    response = []\n",
    "    if len(data) ==1:\n",
    "        data  = { \"name\": data[0], \"alias\": data[0]}\n",
    "        #print(json.dumps(data))\n",
    "        response.append(post_data(data))\n",
    "\n",
    "    elif  len(data) >1:\n",
    "        first = data[0]\n",
    "        for name in data:\n",
    "            #print(\"name: {0}\".format(name))\n",
    "            #print(\"data: {0}\".format(str(data)))\n",
    "            data  = { \"name\":first, \"alias\": name}\n",
    "            #print(json.dumps(data))\n",
    "            response.append(post_data(data))\n",
    "    return response\n",
    "\n",
    "__location__ = os.path.realpath(os.path.join(os.getcwd(), os.path.dirname(__file__)))\n",
    "with open(os.path.join(__location__, \"companies-clean-array-v2.json\"), \"r\", encoding=\"utf-8\") as f:\n",
    "    data = json.load(f)\n",
    "\n",
    "async def main():\n",
    "   with concurrent.futures.ThreadPoolExecutor(max_workers=500) as executor:\n",
    "        loop = asyncio.get_event_loop()\n",
    "        futures = [\n",
    "            loop.run_in_executor(\n",
    "                executor, \n",
    "                process, \n",
    "                i\n",
    "            )\n",
    "            for i in data\n",
    "        ]\n",
    "        for response in await asyncio.gather(*futures):\n",
    "            print(response)\n",
    "\n",
    "\n",
    "\n",
    "\n",
    "executor = concurrent.futures.ThreadPoolExecutor(64)\n",
    "\n",
    "loop = asyncio.get_event_loop()\n",
    "#loop.run_until_complete(tqdm_parallel_map(executor,process,data[0:100]))\n",
    "loop.run_until_complete(main())\n"
   ]
  }
 ],
 "metadata": {
  "kernelspec": {
   "display_name": "Python 3",
   "language": "python",
   "name": "python3"
  },
  "language_info": {
   "codemirror_mode": {
    "name": "ipython",
    "version": 3
   },
   "file_extension": ".py",
   "mimetype": "text/x-python",
   "name": "python",
   "nbconvert_exporter": "python",
   "pygments_lexer": "ipython3",
   "version": "3.6.3"
  }
 },
 "nbformat": 4,
 "nbformat_minor": 2
}
