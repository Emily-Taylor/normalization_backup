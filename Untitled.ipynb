{
 "cells": [
  {
   "cell_type": "code",
   "execution_count": null,
   "metadata": {},
   "outputs": [],
   "source": [
    "import yaml\n",
    "import json\n",
    "import dictobj\n",
    "import normalization as n"
   ]
  },
  {
   "cell_type": "code",
   "execution_count": null,
   "metadata": {},
   "outputs": [],
   "source": [
    "\n",
    "with open('mapping.yml', 'r') as f:\n",
    "    mapping = yaml.load(f)"
   ]
  },
  {
   "cell_type": "code",
   "execution_count": null,
   "metadata": {},
   "outputs": [],
   "source": [
    "#mapping"
   ]
  },
  {
   "cell_type": "code",
   "execution_count": null,
   "metadata": {},
   "outputs": [],
   "source": []
  },
  {
   "cell_type": "code",
   "execution_count": null,
   "metadata": {},
   "outputs": [],
   "source": [
    "#input_data.keys()"
   ]
  },
  {
   "cell_type": "code",
   "execution_count": null,
   "metadata": {},
   "outputs": [],
   "source": []
  },
  {
   "cell_type": "code",
   "execution_count": null,
   "metadata": {},
   "outputs": [],
   "source": [
    "try:\n",
    "    print(input_data.source)\n",
    "except:\n",
    "    print(\"C\")"
   ]
  },
  {
   "cell_type": "code",
   "execution_count": null,
   "metadata": {},
   "outputs": [],
   "source": [
    "\n",
    "#if 'parts' in message:\n",
    "#    print(\"found parts\")\n",
    "#    for part in message['parts']:\n",
    "        #part['id'] = part.pop('mpn')\n",
    "       #result =post_data(part)\n",
    "        #print(part)\n",
    "#        pass"
   ]
  },
  {
   "cell_type": "code",
   "execution_count": null,
   "metadata": {},
   "outputs": [],
   "source": [
    "#message.parts[0].keys()"
   ]
  },
  {
   "cell_type": "code",
   "execution_count": null,
   "metadata": {},
   "outputs": [],
   "source": [
    "#find keys that aren't in mapping\n",
    "def compare(mapping,distributor,part):\n",
    "    m_keys = mapping[distributor].keys()\n",
    "    p_keys = set(part.keys())\n",
    "    return list(p_keys - m_keys)"
   ]
  },
  {
   "cell_type": "code",
   "execution_count": null,
   "metadata": {},
   "outputs": [],
   "source": [
    "#compare(mapping,\"digikey\",message.parts[0])"
   ]
  },
  {
   "cell_type": "code",
   "execution_count": null,
   "metadata": {},
   "outputs": [],
   "source": [
    "input_data = json.load(open('data/digikey/inductors_coils_chokes__adjustable_inductors__page_*.json'))\n",
    "message = dictobj.MutableDictionaryObject(input_data)\n",
    "for part in message.parts:\n",
    "    #print(part.keys())\n",
    "    for key in list(part): \n",
    "        # apply norm\n",
    "        if key in mapping['digikey']:\n",
    "            try:\n",
    "                if 'actions' in mapping['digikey'][key]:\n",
    "                    functions = mapping['digikey'][key]['actions']\n",
    "                    for f in functions:\n",
    "                       #\n",
    "                        new_val = eval(\"n.\"+f+\"({})\".format(\"part['\"+key+\"']\"))\n",
    "                        part[key] = eval(\"n.\"+f+\"({})\".format(\"part['\"+key+\"']\"))\n",
    "                        \n",
    "\n",
    "            except:\n",
    "                raise ValueError(\"something wrong with functions\") \n",
    "            #check for new keys name\n",
    "            if isinstance(mapping['digikey'][key]['output_key'],list):\n",
    "                t_res =  dict(zip(mapping['digikey'][key]['output_key'], part[key]))\n",
    "                for k in t_res.keys():\n",
    "                    part[k] = t_res[k]\n",
    "                part.pop(key)\n",
    "            else:\n",
    "                new_key = mapping['digikey'][key]['output_key']\n",
    "                part[new_key] =part.pop(key)\n",
    "\n",
    "        else:\n",
    "            print(\"{0} not in mapping\".format(i))\n",
    "    print(part)"
   ]
  },
  {
   "cell_type": "code",
   "execution_count": null,
   "metadata": {},
   "outputs": [],
   "source": [
    "mapping['digikey']['categories']"
   ]
  },
  {
   "cell_type": "code",
   "execution_count": null,
   "metadata": {},
   "outputs": [],
   "source": [
    "\n",
    "with open('normalization/categories.yml', 'r') as f:\n",
    "    categories = yaml.load(f)\n"
   ]
  },
  {
   "cell_type": "code",
   "execution_count": null,
   "metadata": {},
   "outputs": [],
   "source": [
    "categories['digikey']['Accessories']"
   ]
  },
  {
   "cell_type": "code",
   "execution_count": null,
   "metadata": {},
   "outputs": [],
   "source": [
    "\n",
    "part"
   ]
  },
  {
   "cell_type": "code",
   "execution_count": null,
   "metadata": {},
   "outputs": [],
   "source": [
    "part['categories']"
   ]
  },
  {
   "cell_type": "code",
   "execution_count": null,
   "metadata": {},
   "outputs": [],
   "source": [
    "n.category_normalize_digikey(['Inductors, Coils, Chokes','Resistors'])\n"
   ]
  },
  {
   "cell_type": "code",
   "execution_count": null,
   "metadata": {},
   "outputs": [],
   "source": [
    " categories['digikey']['Inductors, Coils, Chokes']"
   ]
  },
  {
   "cell_type": "code",
   "execution_count": null,
   "metadata": {},
   "outputs": [],
   "source": [
    "import logging"
   ]
  },
  {
   "cell_type": "code",
   "execution_count": null,
   "metadata": {},
   "outputs": [],
   "source": [
    "def size(d):\n",
    "    \"\"\"splits Lenght and Width from strings\n",
    "    example: '0.276\" L x 0.217\" W (7.00mm x 5.50mm)'\n",
    "    ignoring inches, focusing on millimeters\n",
    "    \"\"\"\n",
    "    regexp =re.compile('([\\d\\.]+mm)')\n",
    "    res = regexp.findall(d)\n",
    "    if len(res) == 2:\n",
    "        l,w = res[0],res[1] \n",
    "        l = float(Quantity(l,scale='mm'))\n",
    "        w = float(Quantity(w,scale='mm'))\n",
    "        return l,w\n",
    "    if len(res) == 1:\n",
    "        dim = float(Quantity(res[0],scale='mm'))\n",
    "        return dim\n"
   ]
  },
  {
   "cell_type": "code",
   "execution_count": null,
   "metadata": {},
   "outputs": [],
   "source": [
    "print(size('L x 0.217\" W (7.00mm x 5.50mm)'))\n",
    "print(size('(dia 5.50mm)'))\n"
   ]
  },
  {
   "cell_type": "code",
   "execution_count": null,
   "metadata": {},
   "outputs": [],
   "source": [
    "import re\n",
    "from quantiphy import Quantity\n"
   ]
  },
  {
   "cell_type": "code",
   "execution_count": null,
   "metadata": {},
   "outputs": [],
   "source": [
    "d = '1000 ninjas'\n",
    "d = float(Quantity(d))\n",
    "print(d)"
   ]
  },
  {
   "cell_type": "code",
   "execution_count": null,
   "metadata": {},
   "outputs": [],
   "source": [
    "del nest"
   ]
  },
  {
   "cell_type": "code",
   "execution_count": null,
   "metadata": {},
   "outputs": [],
   "source": [
    "from collections import defaultdict\n",
    "\n",
    "nested_dict = lambda: defaultdict(nested_dict)\n",
    "nest = nested_dict(\"\")\n",
    "\n"
   ]
  },
  {
   "cell_type": "code",
   "execution_count": null,
   "metadata": {},
   "outputs": [],
   "source": [
    "import json\n",
    "json.dumps(nest)"
   ]
  },
  {
   "cell_type": "code",
   "execution_count": null,
   "metadata": {},
   "outputs": [],
   "source": [
    "input =['dimensions.height','dimensions.length']\n",
    "hierarchy1 = []\n",
    "#input ='dimensions.height_mm.deep'\n",
    "if '.' in input:\n",
    "    hierarchy1 = input.split('.')\n",
    "if isinstance(input,list):\n",
    "    for n,v in enumerate(input):\n",
    "        if '.' in v:\n",
    "            hierarchy1.append(v.split('.'))\n",
    "            print(v,n)\n",
    "        else:\n",
    "            hierarchy1.append(v)\n"
   ]
  },
  {
   "cell_type": "code",
   "execution_count": null,
   "metadata": {},
   "outputs": [],
   "source": [
    "#del hierarchy1"
   ]
  },
  {
   "cell_type": "code",
   "execution_count": null,
   "metadata": {},
   "outputs": [],
   "source": [
    "hierarchy1"
   ]
  },
  {
   "cell_type": "code",
   "execution_count": null,
   "metadata": {},
   "outputs": [],
   "source": [
    "def deep_set(part,value,keys):\n",
    "    d = part\n",
    "    for key in keys[:-1]:\n",
    "        d = d[key]\n",
    "    d[keys[-1]] = value\n"
   ]
  },
  {
   "cell_type": "code",
   "execution_count": null,
   "metadata": {},
   "outputs": [],
   "source": [
    "key = 'bla.bmmm'\n",
    "if '.' in key:\n",
    "    print(\"yo\")\n",
    "else:\n",
    "    print(\"not including dot\")"
   ]
  },
  {
   "cell_type": "code",
   "execution_count": null,
   "metadata": {},
   "outputs": [],
   "source": [
    "#deep_set(nest,12,hierarchy2)\n",
    "deep_set(nest,12,hierarchy1)"
   ]
  },
  {
   "cell_type": "code",
   "execution_count": null,
   "metadata": {},
   "outputs": [],
   "source": [
    "json.dumps(nest)"
   ]
  },
  {
   "cell_type": "code",
   "execution_count": null,
   "metadata": {},
   "outputs": [],
   "source": [
    "from collections import defaultdict\n",
    "d=dict(zip(range(1,10),range(50,61)))\n",
    "my_default_dict = defaultdict(int,d)\n"
   ]
  },
  {
   "cell_type": "code",
   "execution_count": null,
   "metadata": {},
   "outputs": [],
   "source": [
    "d"
   ]
  },
  {
   "cell_type": "code",
   "execution_count": null,
   "metadata": {},
   "outputs": [],
   "source": [
    "my_default_dict = defaultdict(str,{\"pizza\":\"oven\"})\n"
   ]
  },
  {
   "cell_type": "code",
   "execution_count": null,
   "metadata": {},
   "outputs": [],
   "source": [
    "my_default_dict['han'] = \"root\""
   ]
  },
  {
   "cell_type": "code",
   "execution_count": null,
   "metadata": {},
   "outputs": [],
   "source": [
    "my_default_dict"
   ]
  },
  {
   "cell_type": "code",
   "execution_count": null,
   "metadata": {},
   "outputs": [],
   "source": []
  }
 ],
 "metadata": {
  "kernelspec": {
   "display_name": "Python 3",
   "language": "python",
   "name": "python3"
  },
  "language_info": {
   "codemirror_mode": {
    "name": "ipython",
    "version": 3
   },
   "file_extension": ".py",
   "mimetype": "text/x-python",
   "name": "python",
   "nbconvert_exporter": "python",
   "pygments_lexer": "ipython3",
   "version": "3.6.3"
  }
 },
 "nbformat": 4,
 "nbformat_minor": 2
}
