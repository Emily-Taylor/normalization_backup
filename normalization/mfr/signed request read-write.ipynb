{
 "cells": [
  {
   "cell_type": "code",
   "execution_count": null,
   "metadata": {},
   "outputs": [],
   "source": [
    "import requests\n",
    "#from requests import Request, Session\n",
    "from requests_aws_sign import AWSV4Sign\n",
    "import requests_cache\n",
    "from boto3 import session\n",
    "import os\n",
    "from six import string_types\n",
    "import logging as logger\n",
    "\n",
    "#get running enviroment  - necessariy for URL\n",
    "env =os.environ.get('ENV', \"dev\")\n",
    "\n",
    "\n",
    "# Establish credentials using boto3\n",
    "session = session.Session()\n",
    "credentials = session.get_credentials()\n",
    "region = session.region_name or 'eu-central-1'\n",
    "\n",
    "#set urls for the two functions\n",
    "uri_alias =  \"https://app-{env}.sourcingbot.com/entity/manufacturer/alias/{name}\"\n",
    "uri_full =  \"https://app-{env}.sourcingbot.com/entity/manufacturer/{name}\"\n",
    "headers={\"Content-Type\":\"application/json\"}\n",
    "service = 'execute-api'\n",
    "auth=AWSV4Sign(credentials, region, service)\n",
    "requests_cache.install_cache(backend='memory')"
   ]
  },
  {
   "cell_type": "code",
   "execution_count": null,
   "metadata": {},
   "outputs": [],
   "source": [
    "\n",
    "\n",
    "def get_alias(mfr):\n",
    "    if isinstance(mfr, string_types):\n",
    "        url = uri_alias.format_map({\"name\":mfr, \"env\":env})\n",
    "        response= requests.get(url, auth=auth, headers=headers)\n",
    "        if response.ok:\n",
    "            logger.error('result from cache {0}'.format(response.from_cache))\n",
    "\n",
    "            data = response.json()\n",
    "            return data\n",
    "        else:\n",
    "            return False\n",
    "    else:\n",
    "        logger.error('alias is not a string')\n",
    "        return False\n",
    "\n",
    "def get_full(mfr):\n",
    "    if isinstance(mfr, string_types):\n",
    "        url = uri_full.format_map({\"name\":mfr, \"env\":env})\n",
    "        response= requests.get(url, auth=auth, headers=headers)\n",
    "        if response.ok:\n",
    "            data = response.json()\n",
    "            return data\n",
    "        else:\n",
    "            return False\n",
    "    else:\n",
    "        logger.error('alias is not a string')\n",
    "        return False\n",
    "\n",
    "def normalize_mfr(mfr):\n",
    "    data = {\"mfr\": { \"main\":\"\",\"aliases\":[]}}\n",
    "    if isinstance(mfr, string_types):\n",
    "        alias = get_alias((mfr))\n",
    "        print(alias)\n",
    "        if alias:\n",
    "            if 'data' in alias and 'parent' in alias['data']:\n",
    "                main = alias['data']['parent']\n",
    "                data['mfr']['main'] = main\n",
    "                alias2 =  get_full(main)\n",
    "                if 'data' in alias2 and 'alias' in alias2['data']:\n",
    "                    print(alias['data'])\n",
    "                    data['mfr']['aliases'] = alias2['data']['alias']\n",
    "            return data\n",
    "        elif not alias:\n",
    "            logger.error('mfr mapping not found')\n",
    "            data['mfr']['main'] = mfr\n",
    "            return data\n",
    "\n",
    "\n",
    "            \n",
    "        \n",
    "    else:\n",
    "        logger.error('bad mfr mapping received')\n",
    "        return False\n"
   ]
  },
  {
   "cell_type": "code",
   "execution_count": null,
   "metadata": {},
   "outputs": [],
   "source": [
    "print(normalize_mfr(\"wurth electronics\"))\n"
   ]
  },
  {
   "cell_type": "code",
   "execution_count": null,
   "metadata": {},
   "outputs": [],
   "source": [
    "from timeit import default_timer as timer\n",
    "\n",
    "start = timer()\n",
    "for i in range(30):\n",
    "    get_alias(\"wurth electronics\")\n",
    "end = timer()\n",
    "print(end - start)\n",
    "\n",
    "print(get_full(\"wurth electronics\"))\n",
    "\n",
    "#normalize_mfr(\"hart\")"
   ]
  },
  {
   "cell_type": "code",
   "execution_count": null,
   "metadata": {},
   "outputs": [],
   "source": [
    "import timeit\n"
   ]
  },
  {
   "cell_type": "code",
   "execution_count": null,
   "metadata": {},
   "outputs": [],
   "source": [
    "#timeit.timeit('normalize_mfr', number=100)\n",
    "timeit.timeit('get_alias(\"pizza\")', \"from __main__ import get_alias\",number=30)\n",
    "\n",
    "#timeit.timeit('print(set([get_alias(\"test\") for n in range(5)]))', \"from __main__ import get_alias\", number=1)\n"
   ]
  },
  {
   "cell_type": "code",
   "execution_count": null,
   "metadata": {},
   "outputs": [],
   "source": [
    "timeit.timeit('\"-\".join(str(n) for n in range(99))', number=100000)\n"
   ]
  },
  {
   "cell_type": "code",
   "execution_count": null,
   "metadata": {},
   "outputs": [],
   "source": [
    "#timeit.timeit('normalize_mfr(\"test\")', number=100)\n",
    "timeit.timeit('normalize_mfr(\"pizza\")', \"from __main__ import normalize_mfr\",number=10)\n"
   ]
  },
  {
   "cell_type": "code",
   "execution_count": null,
   "metadata": {},
   "outputs": [],
   "source": [
    "timeit.timeit('set([get_alias(\"test\") for n in range(5)])', \"from __main__ import get_alias\",number=6)"
   ]
  },
  {
   "cell_type": "code",
   "execution_count": null,
   "metadata": {},
   "outputs": [],
   "source": [
    "timeit.timeit('set([get_alias(\"test\") for n in range(5)])', \"from __main__ import get_alias\",number=6)"
   ]
  },
  {
   "cell_type": "code",
   "execution_count": null,
   "metadata": {},
   "outputs": [],
   "source": [
    "#without cache\n",
    "timeit.timeit('set([get_alias(\"test\") for n in range(5)])', \"from __main__ import get_alias\",number=6)"
   ]
  },
  {
   "cell_type": "code",
   "execution_count": null,
   "metadata": {},
   "outputs": [],
   "source": []
  }
 ],
 "metadata": {
  "kernelspec": {
   "display_name": "Python 3",
   "language": "python",
   "name": "python3"
  },
  "language_info": {
   "codemirror_mode": {
    "name": "ipython",
    "version": 3
   },
   "file_extension": ".py",
   "mimetype": "text/x-python",
   "name": "python",
   "nbconvert_exporter": "python",
   "pygments_lexer": "ipython3",
   "version": "3.6.3"
  }
 },
 "nbformat": 4,
 "nbformat_minor": 2
}
