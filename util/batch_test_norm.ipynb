{
 "cells": [
  {
   "cell_type": "code",
   "execution_count": null,
   "metadata": {},
   "outputs": [],
   "source": [
    "import jsonlines"
   ]
  },
  {
   "cell_type": "code",
   "execution_count": null,
   "metadata": {},
   "outputs": [],
   "source": [
    "#filename = '/home/username/projects/sourcingbot/normalization_service/data-full/digikey/inductor_digikey.ndjson.gz'\n",
    "#filename =  '/home/username/projects/sourcingbot/normalization_service/data/1000inductors.ndjson.gz'\n",
    "filename =  '/home/username/projects/sourcingbot/normalization_service/data/100inductors.ndjson.gz'\n"
   ]
  },
  {
   "cell_type": "code",
   "execution_count": null,
   "metadata": {},
   "outputs": [],
   "source": [
    "import lambda_decorators\n",
    "import handler"
   ]
  },
  {
   "cell_type": "code",
   "execution_count": null,
   "metadata": {},
   "outputs": [],
   "source": [
    "from functions import adjust_structure"
   ]
  },
  {
   "cell_type": "code",
   "execution_count": null,
   "metadata": {},
   "outputs": [],
   "source": [
    "import os\n",
    "import boto3\n",
    "import random\n",
    "import string\n",
    "import time\n",
    "import fire\n",
    "\n",
    "\n",
    "import os,sys,inspect\n",
    "from collections import defaultdict\n",
    "currentdir = os.path.dirname(os.path.abspath(inspect.getfile(inspect.currentframe())))\n",
    "parentdir = os.path.dirname(currentdir)\n",
    "sys.path.insert(0,parentdir) \n",
    "\n",
    "\n",
    "import yaml, json\n",
    "import jsonlines\n",
    "import gzip\n",
    "\n",
    "from boto3 import session\n",
    "from six import string_types\n",
    "import logging \n",
    "\n",
    "#from tqdm import tqdm\n",
    "from tqdm import tqdm_notebook as tqdm\n",
    "\n",
    "\n",
    "\n",
    "class Context:\n",
    "    def __init__(self):\n",
    "        self.function_name = 'Fake'\n",
    "\n",
    "context = Context()\n",
    "\n",
    "large_list = []\n",
    "def handle_parts(obj):\n",
    "    res = handler.norm_handler_http(obj, context)\n",
    "    #large_list.append(json.loads(res['body']))\n",
    "    return json.loads(res['body'])\n",
    "        "
   ]
  },
  {
   "cell_type": "code",
   "execution_count": null,
   "metadata": {},
   "outputs": [],
   "source": [
    "start = time.time()\n",
    "# read mapping file\n",
    "def process(filename):\n",
    "  here = os.path.dirname(os.getcwd())\n",
    "  with jsonlines.Reader(gzip.open(os.path.join(here, filename))) as reader:\n",
    "    global temp_obj\n",
    "    temp_obj = []\n",
    "    tqdm.monitor_interval = 0\n",
    "    for obj in tqdm (reader):\n",
    "      res = handle_parts(obj)\n",
    "      large_list.append(res)\n",
    "\n",
    "    end = time.time()\n",
    "    print(end - start)"
   ]
  },
  {
   "cell_type": "code",
   "execution_count": null,
   "metadata": {},
   "outputs": [],
   "source": [
    "process(filename)"
   ]
  },
  {
   "cell_type": "code",
   "execution_count": null,
   "metadata": {},
   "outputs": [],
   "source": []
  },
  {
   "cell_type": "code",
   "execution_count": null,
   "metadata": {},
   "outputs": [],
   "source": []
  },
  {
   "cell_type": "code",
   "execution_count": null,
   "metadata": {},
   "outputs": [],
   "source": [
    "import multiprocessing as mp\n",
    "#from multiprocessing import Process, Value, Array\n",
    "\n",
    "pool = mp.Pool(processes=64)\n",
    "with jsonlines.Reader(gzip.open(filename)) as reader:\n",
    "    tqdm.monitor_interval = 0\n",
    "    results = [pool.apply(handle_parts, args=(obj,)) for obj in tqdm (reader)]\n"
   ]
  },
  {
   "cell_type": "code",
   "execution_count": null,
   "metadata": {},
   "outputs": [],
   "source": [
    "print(len(results))"
   ]
  },
  {
   "cell_type": "code",
   "execution_count": null,
   "metadata": {},
   "outputs": [],
   "source": [
    "len(results[0]['parts'])"
   ]
  },
  {
   "cell_type": "code",
   "execution_count": null,
   "metadata": {},
   "outputs": [],
   "source": []
  },
  {
   "cell_type": "code",
   "execution_count": null,
   "metadata": {},
   "outputs": [],
   "source": []
  },
  {
   "cell_type": "code",
   "execution_count": null,
   "metadata": {},
   "outputs": [],
   "source": []
  }
 ],
 "metadata": {
  "kernelspec": {
   "display_name": "Python 3",
   "language": "python",
   "name": "python3"
  },
  "language_info": {
   "codemirror_mode": {
    "name": "ipython",
    "version": 3
   },
   "file_extension": ".py",
   "mimetype": "text/x-python",
   "name": "python",
   "nbconvert_exporter": "python",
   "pygments_lexer": "ipython3",
   "version": "3.6.3"
  }
 },
 "nbformat": 4,
 "nbformat_minor": 2
}
