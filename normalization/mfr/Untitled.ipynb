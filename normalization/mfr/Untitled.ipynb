{
 "cells": [
  {
   "cell_type": "code",
   "execution_count": null,
   "metadata": {},
   "outputs": [],
   "source": [
    "import re\n",
    "from quantiphy import Quantity\n",
    "\n",
    "def multiple_replace(text, adict):\n",
    "    rx = re.compile('|'.join(map(re.escape, adict)))\n",
    "    def one_xlat(match):\n",
    "        return adict[match.group(0)]\n",
    "    return rx.sub(one_xlat, text)\n",
    "\n",
    "\n",
    "def extract_num(d):\n",
    "    \"\"\"turns strings with ANY unit into numbers\"\"\"\n",
    "    adict = {'µ':'u',' %':'',' ':'','Max':'','±':'','ppm/°C':''}\n",
    "\n",
    "    if isinstance(d, str):\n",
    "        \n",
    "        if (len(d) > 0):\n",
    "            d = re.sub(r'\\(.*\\)', '', d)\n",
    "            d = multiple_replace(d,adict)\n",
    "            d = float(Quantity(d,''))\n",
    "            return d\n",
    "        else:\n",
    "            logging.warning(\"during coversion got an empty string\")\n",
    "            return d\n",
    "    else:\n",
    "        logging.warning(\"during type conversion got a non-string\")     "
   ]
  },
  {
   "cell_type": "code",
   "execution_count": null,
   "metadata": {},
   "outputs": [],
   "source": [
    "extract_num(\"400,500\")"
   ]
  },
  {
   "cell_type": "code",
   "execution_count": null,
   "metadata": {},
   "outputs": [],
   "source": [
    "def parse_any_number(d):\n",
    "    \"\"\"\n",
    "    parse out any number from string\n",
    "    \n",
    "    \"\"\"\n",
    "    # this is just floats\n",
    "    #regexp =re.compile(r'\\d+\\.\\d+')\n",
    "    #this is just integers\n",
    "    #regexp =re.compile(r'\\d+')\n",
    "    # this one only works for positive numbers\n",
    "    #regexp =re.compile(r'(\\d+(\\.\\d+)?)')\n",
    "    # this one works for negative numbers too.\n",
    "    regexp = re.compile(r'([+-]?(\\d+)(\\.(\\d+))?)')\n",
    "    res = regexp.findall(d)\n",
    "    if len(res) > 0:\n",
    "        for k,v in enumerate(res):\n",
    "            res[k] = float(v[0])\n",
    "        return res\n",
    "    else:\n",
    "        return d\n",
    "    return d"
   ]
  },
  {
   "cell_type": "code",
   "execution_count": null,
   "metadata": {},
   "outputs": [],
   "source": [
    "parse_any_number(\"400,400,x-11\")"
   ]
  },
  {
   "cell_type": "code",
   "execution_count": null,
   "metadata": {},
   "outputs": [],
   "source": [
    "regexp = re.compile(r'([+-]?(\\d+)(\\.(\\d+))?)')\n"
   ]
  },
  {
   "cell_type": "code",
   "execution_count": null,
   "metadata": {},
   "outputs": [],
   "source": [
    "res = regexp.findall(\"400,400,x-11\")\n"
   ]
  },
  {
   "cell_type": "code",
   "execution_count": null,
   "metadata": {},
   "outputs": [],
   "source": [
    "res"
   ]
  },
  {
   "cell_type": "code",
   "execution_count": null,
   "metadata": {},
   "outputs": [],
   "source": []
  }
 ],
 "metadata": {
  "kernelspec": {
   "display_name": "Python 3",
   "language": "python",
   "name": "python3"
  },
  "language_info": {
   "codemirror_mode": {
    "name": "ipython",
    "version": 3
   },
   "file_extension": ".py",
   "mimetype": "text/x-python",
   "name": "python",
   "nbconvert_exporter": "python",
   "pygments_lexer": "ipython3",
   "version": "3.6.3"
  }
 },
 "nbformat": 4,
 "nbformat_minor": 2
}
