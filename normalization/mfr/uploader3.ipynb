{
 "cells": [
  {
   "cell_type": "code",
   "execution_count": null,
   "metadata": {},
   "outputs": [],
   "source": [
    "import asyncio\n",
    "from distex import Pool\n",
    "\n",
    "def init():\n",
    "    # pool initializer: set the start time for every worker\n",
    "    import time\n",
    "    __builtins__.t0 = time.time()\n",
    "\n",
    "async def timer(i=0):\n",
    "    # async code running in the pool\n",
    "    import time\n",
    "    await asyncio.sleep(1)\n",
    "    return time.time() - t0\n",
    "\n",
    "async def ait():\n",
    "    # async iterator running on the user side\n",
    "    for i in range(20):\n",
    "        await asyncio.sleep(0.1)\n",
    "        yield i\n",
    "\n",
    "async def main():\n",
    "    async with Pool(4, initializer=init, qsize=1) as pool:\n",
    "        async for t in pool.map_async(timer, ait()):\n",
    "            print(t)\n",
    "        print(await pool.run_on_all_async(timer))\n",
    "\n",
    "\n",
    "loop = asyncio.get_event_loop()\n",
    "loop.run_until_complete(main())"
   ]
  },
  {
   "cell_type": "code",
   "execution_count": null,
   "metadata": {},
   "outputs": [],
   "source": [
    "from requests_futures.sessions import FuturesSession\n",
    "\n",
    "session = FuturesSession()\n",
    "# first request is started in background\n",
    "future_one = session.get('http://httpbin.org/get')\n",
    "# second requests is started immediately\n",
    "future_two = session.get('http://httpbin.org/get?foo=bar')\n",
    "# wait for the first request to complete, if it hasn't already\n",
    "response_one = future_one.result()\n",
    "print('response one status: {0}'.format(response_one.status_code))\n",
    "print(response_one.content)\n",
    "# wait for the second request to complete, if it hasn't already\n",
    "response_two = future_two.result()\n",
    "print('response two status: {0}'.format(response_two.status_code))\n",
    "print(response_two.content)"
   ]
  },
  {
   "cell_type": "code",
   "execution_count": null,
   "metadata": {},
   "outputs": [],
   "source": []
  }
 ],
 "metadata": {
  "kernelspec": {
   "display_name": "Python 3",
   "language": "python",
   "name": "python3"
  },
  "language_info": {
   "codemirror_mode": {
    "name": "ipython",
    "version": 3
   },
   "file_extension": ".py",
   "mimetype": "text/x-python",
   "name": "python",
   "nbconvert_exporter": "python",
   "pygments_lexer": "ipython3",
   "version": "3.6.3"
  }
 },
 "nbformat": 4,
 "nbformat_minor": 2
}
