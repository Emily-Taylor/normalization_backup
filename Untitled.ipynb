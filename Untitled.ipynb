{
 "cells": [
  {
   "cell_type": "code",
   "execution_count": 15,
   "metadata": {},
   "outputs": [],
   "source": [
    "import yaml\n",
    "import json\n",
    "import dictobj\n",
    "import normalization as n"
   ]
  },
  {
   "cell_type": "code",
   "execution_count": 16,
   "metadata": {},
   "outputs": [],
   "source": [
    "\n",
    "with open('mapping.yml', 'r') as f:\n",
    "    mapping = yaml.load(f)"
   ]
  },
  {
   "cell_type": "code",
   "execution_count": 17,
   "metadata": {},
   "outputs": [
    {
     "data": {
      "text/plain": [
       "{'digikey': {'accessory_type': {'output_key': 'accessory_type'},\n",
       "  'availability': {'output_key': 'availability'},\n",
       "  'case': {'output_key': 'case'},\n",
       "  'categories': {'output_key': 'categories'},\n",
       "  'current_rating_parallel': {'output_key': 'current_rating_parallel'},\n",
       "  'current_rating_series': {'output_key': 'current_rating_series'},\n",
       "  'current_saturation_parallel': {'output_key': 'current_saturation_parallel'},\n",
       "  'current_saturation_series': {'output_key': 'current_saturation_series'},\n",
       "  'dc_resistance_(dcr)_parallel': {'output_key': 'maximumdcresistance_mohm'},\n",
       "  'description': {'actions': ['reverse'], 'output_key': 'description'},\n",
       "  'device_size': {'output_key': 'device_size'},\n",
       "  'for_use_withrelated_products': {'output_key': 'for_use_withrelated_products'},\n",
       "  'height': {'output_key': 'dimensions.height'},\n",
       "  'inductance': {'actions': ['inductance'], 'output_key': 'inductance_ph'},\n",
       "  'inductance_connected_in_parallel': {'output_key': 'inductanceparallel_ph'},\n",
       "  'inductance_connected_in_series': {'output_key': 'inductanceseries_ph'},\n",
       "  'lifecycle': {'output_key': 'lifecycle'},\n",
       "  'links': {'output_key': 'links'},\n",
       "  'mfr': {'output_key': 'mfr'},\n",
       "  'minimum_quantity': {'output_key': 'minimum_quantity'},\n",
       "  'mounting_type': {'output_key': 'mounting_type'},\n",
       "  'mpn': {'output_key': 'mpn'},\n",
       "  'number_of_coils': {'output_key': 'number_of_coils'},\n",
       "  'operating_temperature': {'output_key': 'operating_temperature'},\n",
       "  'packaging': {'output_key': 'packaging'},\n",
       "  'pricing': {'output_key': 'pricing'},\n",
       "  'q_@_freq': {'actions': ['split_q'],\n",
       "   'output_key': ['qminimum', 'testfrequency_max_hz']},\n",
       "  'series': {'output_key': 'series'},\n",
       "  'shielding': {'output_key': 'shielding'},\n",
       "  'size_dimension': {'actions': ['split_l_w'],\n",
       "   'output_key': ['dimensions.length_mm', 'dimensions.width_mm']},\n",
       "  'sku': {'output_key': 'sku'},\n",
       "  'specifications': {'output_key': 'specifications'},\n",
       "  'tolerance': {'output_key': 'tolerance'}}}"
      ]
     },
     "execution_count": 17,
     "metadata": {},
     "output_type": "execute_result"
    }
   ],
   "source": [
    "mapping"
   ]
  },
  {
   "cell_type": "code",
   "execution_count": null,
   "metadata": {},
   "outputs": [],
   "source": []
  },
  {
   "cell_type": "code",
   "execution_count": 18,
   "metadata": {},
   "outputs": [],
   "source": [
    "#input_data.keys()"
   ]
  },
  {
   "cell_type": "code",
   "execution_count": null,
   "metadata": {},
   "outputs": [],
   "source": []
  },
  {
   "cell_type": "code",
   "execution_count": 19,
   "metadata": {},
   "outputs": [
    {
     "name": "stdout",
     "output_type": "stream",
     "text": [
      "C\n"
     ]
    }
   ],
   "source": [
    "try:\n",
    "    print(input_data.source)\n",
    "except:\n",
    "    print(\"C\")"
   ]
  },
  {
   "cell_type": "code",
   "execution_count": 20,
   "metadata": {},
   "outputs": [],
   "source": [
    "\n",
    "#if 'parts' in message:\n",
    "#    print(\"found parts\")\n",
    "#    for part in message['parts']:\n",
    "        #part['id'] = part.pop('mpn')\n",
    "       #result =post_data(part)\n",
    "        #print(part)\n",
    "#        pass"
   ]
  },
  {
   "cell_type": "code",
   "execution_count": 21,
   "metadata": {},
   "outputs": [],
   "source": [
    "#message.parts[0].keys()"
   ]
  },
  {
   "cell_type": "code",
   "execution_count": 22,
   "metadata": {},
   "outputs": [],
   "source": [
    "#find keys that aren't in mapping\n",
    "def compare(mapping,distributor,part):\n",
    "    m_keys = mapping[distributor].keys()\n",
    "    p_keys = set(part.keys())\n",
    "    return list(p_keys - m_keys)"
   ]
  },
  {
   "cell_type": "code",
   "execution_count": 23,
   "metadata": {},
   "outputs": [],
   "source": [
    "#compare(mapping,\"digikey\",message.parts[0])"
   ]
  },
  {
   "cell_type": "code",
   "execution_count": 24,
   "metadata": {},
   "outputs": [
    {
     "name": "stdout",
     "output_type": "stream",
     "text": [
      "{'categories': ['Inductors, Coils, Chokes', 'Adjustable Inductors'], 'pricing': [{'quantity': 1, 'price': 0.84864, 'currency': 'USD'}], 'packaging': ['Tape & Reel (TR)'], 'sku': ['490-14346-2-ND'], 'links': {'datasheet': 'https://www.murata.com/~/media/webrenewal/products/inductor/chip/tokoproducts/variablecoils/m_5cceg.ashx', 'image': 'https://media.digikey.com/photos/Murata%20Photos/%23A1313AN-0001GGH=P3_tmb.jpg', 'url': 'https://www.digikey.com/product-detail/en/murata-electronics-north-america/A1313AN-0001GGH=P3/490-14346-2-ND/6605975'}, 'case': ['Nonstandard'], 'mpn': '#A1313AN-0001GGH=P3', 'mfr': 'Murata Electronics North America', 'description': '27 =Q FP4.11 SROTCUDNI ELBAIRAV', 'availability': 9000, 'minimum_quantity': 750, 'lifecycle': 'Active', 'inductance_ph': 5e-08, 'tolerance': '±3%', 'qminimum': 72.0, 'testfrequency_max_hz': 100000000.0, 'mounting_type': 'Surface Mount', 'dimensions.length_mm': 5.6, 'dimensions.width_mm': 5.6, 'dimensions.height': '0.224\" (5.70mm)'}\n",
      "{'categories': ['Inductors, Coils, Chokes', 'Adjustable Inductors'], 'pricing': [{'quantity': 1, 'price': 1.87, 'currency': 'USD'}], 'packaging': ['Cut Tape (CT)'], 'sku': ['490-14346-1-ND'], 'links': {'datasheet': 'https://www.murata.com/~/media/webrenewal/products/inductor/chip/tokoproducts/variablecoils/m_5cceg.ashx', 'image': 'https://media.digikey.com/photos/Murata%20Photos/%23A1313AN-0001GGH=P3_tmb.jpg', 'url': 'https://www.digikey.com/product-detail/en/murata-electronics-north-america/A1313AN-0001GGH=P3/490-14346-1-ND/6606807'}, 'case': ['Nonstandard'], 'mpn': '#A1313AN-0001GGH=P3', 'mfr': 'Murata Electronics North America', 'description': '27 =Q FP4.11 SROTCUDNI ELBAIRAV', 'availability': 9689, 'minimum_quantity': 1, 'lifecycle': 'Active', 'inductance_ph': 5e-08, 'tolerance': '±3%', 'qminimum': 72.0, 'testfrequency_max_hz': 100000000.0, 'mounting_type': 'Surface Mount', 'dimensions.length_mm': 5.6, 'dimensions.width_mm': 5.6, 'dimensions.height': '0.224\" (5.70mm)'}\n",
      "{'categories': ['Inductors, Coils, Chokes', 'Adjustable Inductors'], 'pricing': [{'quantity': 1, 'price': None, 'currency': 'USD'}], 'packaging': ['Digi-Reel®'], 'sku': ['490-14346-6-ND'], 'links': {'datasheet': 'https://www.murata.com/~/media/webrenewal/products/inductor/chip/tokoproducts/variablecoils/m_5cceg.ashx', 'image': 'https://media.digikey.com/photos/Murata%20Photos/%23A1313AN-0001GGH=P3_tmb.jpg', 'url': 'https://www.digikey.com/product-detail/en/murata-electronics-north-america/A1313AN-0001GGH=P3/490-14346-6-ND/6606950'}, 'case': ['Nonstandard'], 'mpn': '#A1313AN-0001GGH=P3', 'mfr': 'Murata Electronics North America', 'description': '27 =Q FP4.11 SROTCUDNI ELBAIRAV', 'availability': 9689, 'minimum_quantity': 1, 'lifecycle': 'Active', 'inductance_ph': 5e-08, 'tolerance': '±3%', 'qminimum': 72.0, 'testfrequency_max_hz': 100000000.0, 'mounting_type': 'Surface Mount', 'dimensions.length_mm': 5.6, 'dimensions.width_mm': 5.6, 'dimensions.height': '0.224\" (5.70mm)'}\n",
      "{'categories': ['Inductors, Coils, Chokes', 'Adjustable Inductors'], 'pricing': [{'quantity': 1, 'price': 0.33912, 'currency': 'USD'}], 'packaging': ['Tape & Reel (TR)'], 'sku': ['TKS2709TR-ND'], 'links': {'datasheet': 'https://media.digikey.com/pdf/Data%20Sheets/Toko%20PDFs/MC152.pdf', 'image': 'https://media.digikey.com/Photos/Toko%20Photos/E558HN-100099=P3_tmb.jpg', 'url': 'https://www.digikey.com/product-detail/en/toko-america-inc/E558HN-100099=P3/TKS2709TR-ND/210666'}, 'case': ['Nonstandard'], 'mpn': 'E558HN-100099=P3', 'mfr': 'Toko America Inc.', 'description': 'DMS HN37 ELBATSUJDA ROTCUDNI', 'availability': 1500, 'series': 'MC152', 'lifecycle': 'Obsolete', 'inductance_ph': 7.3e-08, 'tolerance': '±10%', 'qminimum': 105.0, 'testfrequency_max_hz': 100000000.0, 'mounting_type': 'Surface Mount', 'dimensions.length_mm': 7.0, 'dimensions.width_mm': 5.5, 'dimensions.height': '0.205\" (5.20mm)'}\n",
      "{'categories': ['Inductors, Coils, Chokes', 'Adjustable Inductors'], 'pricing': [{'quantity': 1, 'price': 0.43, 'currency': 'USD'}], 'packaging': ['Cut Tape (CT)'], 'sku': ['TKS2709CT-ND'], 'links': {'datasheet': 'https://media.digikey.com/pdf/Data%20Sheets/Toko%20PDFs/MC152.pdf', 'image': 'https://media.digikey.com/Photos/Toko%20Photos/E558HN-100099=P3_tmb.jpg', 'url': 'https://www.digikey.com/product-detail/en/toko-america-inc/E558HN-100099=P3/TKS2709CT-ND/210684'}, 'case': ['Nonstandard'], 'mpn': 'E558HN-100099=P3', 'mfr': 'Toko America Inc.', 'description': 'DMS HN37 ELBATSUJDA ROTCUDNI', 'availability': 2212, 'series': 'MC152', 'lifecycle': 'Obsolete', 'inductance_ph': 7.3e-08, 'tolerance': '±10%', 'qminimum': 105.0, 'testfrequency_max_hz': 100000000.0, 'mounting_type': 'Surface Mount', 'dimensions.length_mm': 7.0, 'dimensions.width_mm': 5.5, 'dimensions.height': '0.205\" (5.20mm)'}\n",
      "{'categories': ['Inductors, Coils, Chokes', 'Adjustable Inductors'], 'pricing': [{'quantity': 1, 'price': 0.36, 'currency': 'USD'}], 'packaging': ['Bulk'], 'sku': ['TK3006-ND'], 'links': {'image': 'https://media.digikey.com/Photos/Toko%20Photos/E540SNA-15002_tmb.jpg', 'url': 'https://www.digikey.com/product-detail/en/toko-america-inc/E540SNA-15002/TK3006-ND/25854'}, 'case': ['Radial'], 'mpn': 'E540SNA-15002', 'mfr': 'Toko America Inc.', 'description': 'ELOH URHT HN224 TSUJDA ROTCUDNI', 'availability': 1044, 'series': 'MC134', 'lifecycle': 'Obsolete', 'inductance_ph': 4.22e-07, 'qminimum': 80.0, 'testfrequency_max_hz': 50000000.0, 'mounting_type': 'Through Hole', 'dimensions.length_mm': 13.0, 'dimensions.width_mm': 13.0, 'dimensions.height': '0.287\" (7.30mm)'}\n",
      "{'categories': ['Inductors, Coils, Chokes', 'Adjustable Inductors'], 'pricing': [{'quantity': 1, 'price': 0.41, 'currency': 'USD'}], 'packaging': ['Bulk'], 'sku': ['TK2417-ND'], 'links': {'datasheet': 'https://media.digikey.com/pdf/Data%20Sheets/Toko%20PDFs/7P%20(Variable%20Coils).pdf', 'image': 'https://media.digikey.com/photos/Toko%20Photos/TOKO%20AMERICA%20INC-%20SERIES-%20A7BRS-T_tmb.jpg', 'url': 'https://www.digikey.com/product-detail/en/toko-america-inc/A7BRS-T1040Z/TK2417-ND/11220'}, 'case': ['Radial', 'Can'], 'mpn': 'A7BRS-T1040Z', 'mfr': 'Toko America Inc.', 'description': 'ELOH URHT HU001 TSUJDA ROTCUDNI', 'availability': 4420, 'series': '7P', 'lifecycle': 'Obsolete', 'inductance_ph': 0.0001, 'tolerance': '±10%', 'qminimum': 80.0, 'testfrequency_max_hz': 796000.0, 'mounting_type': 'Through Hole', 'dimensions.length_mm': 7.5, 'dimensions.width_mm': 7.5, 'dimensions.height': '0.472\" (12.00mm)'}\n",
      "{'categories': ['Inductors, Coils, Chokes', 'Adjustable Inductors'], 'pricing': [{'quantity': 1, 'price': 0.45, 'currency': 'USD'}], 'packaging': ['Bulk'], 'sku': ['TK2410-ND'], 'links': {'datasheet': 'https://media.digikey.com/pdf/Data%20Sheets/Toko%20PDFs/A119ANS-T1.pdf', 'image': 'https://media.digikey.com/Photos/Toko%20Photos/A119ANS-T1038Z_tmb.jpg', 'url': 'https://www.digikey.com/product-detail/en/toko-america-inc/A119ANS-T1038Z/TK2410-ND/25271'}, 'case': ['Radial', 'Can'], 'mpn': 'A119ANS-T1038Z', 'mfr': 'Toko America Inc.', 'description': 'ELOH URHT HU72 TSUJDA ROTCUDNI', 'availability': 16937, 'series': '7PH', 'lifecycle': 'Obsolete', 'inductance_ph': 2.7e-05, 'tolerance': '±10%', 'qminimum': 80.0, 'testfrequency_max_hz': 2520000.0, 'mounting_type': 'Through Hole', 'dimensions.length_mm': 7.5, 'dimensions.width_mm': 7.5, 'dimensions.height': '0.472\" (12.00mm)'}\n",
      "{'categories': ['Inductors, Coils, Chokes', 'Adjustable Inductors'], 'pricing': [{'quantity': 1, 'price': 0.456, 'currency': 'USD'}], 'packaging': ['Tape & Reel (TR)'], 'sku': ['TKS2700TR-ND'], 'links': {'datasheet': 'https://media.digikey.com/pdf/Data%20Sheets/Toko%20PDFs/MC152.pdf', 'image': 'https://media.digikey.com/Photos/Toko%20Photos/E558CN-100020=P3_tmb.jpg', 'url': 'https://www.digikey.com/product-detail/en/toko-america-inc/E558CN-100020=P3/TKS2700TR-ND/210657'}, 'case': ['Nonstandard'], 'mpn': 'E558CN-100020=P3', 'mfr': 'Toko America Inc.', 'description': 'DMS HN23 ELBATSUJDA ROTCUDNI', 'availability': 1500, 'series': 'MC152', 'lifecycle': 'Obsolete', 'inductance_ph': 3.2e-08, 'tolerance': '±2%', 'qminimum': 90.0, 'testfrequency_max_hz': 100000000.0, 'mounting_type': 'Surface Mount', 'dimensions.length_mm': 7.0, 'dimensions.width_mm': 5.5, 'dimensions.height': '0.205\" (5.20mm)'}\n",
      "{'categories': ['Inductors, Coils, Chokes', 'Adjustable Inductors'], 'pricing': [{'quantity': 1, 'price': 0.58, 'currency': 'USD'}], 'packaging': ['Cut Tape (CT)'], 'sku': ['TKS2700CT-ND'], 'links': {'datasheet': 'https://media.digikey.com/pdf/Data%20Sheets/Toko%20PDFs/MC152.pdf', 'image': 'https://media.digikey.com/Photos/Toko%20Photos/E558CN-100020=P3_tmb.jpg', 'url': 'https://www.digikey.com/product-detail/en/toko-america-inc/E558CN-100020=P3/TKS2700CT-ND/210675'}, 'case': ['Nonstandard'], 'mpn': 'E558CN-100020=P3', 'mfr': 'Toko America Inc.', 'description': 'DMS HN23 ELBATSUJDA ROTCUDNI', 'availability': 2210, 'series': 'MC152', 'lifecycle': 'Obsolete', 'inductance_ph': 3.2e-08, 'tolerance': '±2%', 'qminimum': 90.0, 'testfrequency_max_hz': 100000000.0, 'mounting_type': 'Surface Mount', 'dimensions.length_mm': 7.0, 'dimensions.width_mm': 5.5, 'dimensions.height': '0.205\" (5.20mm)'}\n",
      "{'categories': ['Inductors, Coils, Chokes', 'Adjustable Inductors'], 'pricing': [{'quantity': 1, 'price': 0.52, 'currency': 'USD'}], 'packaging': ['Bulk'], 'sku': ['TK2723-ND'], 'links': {'datasheet': 'https://media.digikey.com/pdf/Data%20Sheets/Toko%20PDFs/mc120.pdf', 'image': 'https://media.digikey.com/Photos/Toko%20Photos/E526HN-100109_tmb.jpg', 'url': 'https://www.digikey.com/product-detail/en/toko-america-inc/E526HN-100109/TK2723-ND/25691'}, 'case': ['Radial'], 'mpn': 'E526HN-100109', 'mfr': 'Toko America Inc.', 'description': 'ELOH URHT HN035 TSUJDA ROTCUDNI', 'availability': 3335, 'series': 'MC120', 'lifecycle': 'Obsolete', 'inductance_ph': 5.3e-07, 'tolerance': '±2%', 'qminimum': 100.0, 'testfrequency_max_hz': 50000000.0, 'mounting_type': 'Through Hole', 'dimensions.length_mm': 10.0, 'dimensions.width_mm': 10.0, 'dimensions.height': '0.512\" (13.00mm)'}\n",
      "{'categories': ['Inductors, Coils, Chokes', 'Adjustable Inductors'], 'pricing': [{'quantity': 1, 'price': 0.57, 'currency': 'USD'}], 'packaging': ['Bulk'], 'sku': ['TK3139-ND'], 'links': {'datasheet': 'https://media.digikey.com/pdf/Data%20Sheets/Toko%20PDFs/7KMM.pdf', 'image': 'https://media.digikey.com/Photos/Toko%20Photos/292SNS-T1366Z_tmb.jpg', 'url': 'https://www.digikey.com/product-detail/en/toko-america-inc/292SNS-T1366Z/TK3139-ND/90878'}, 'case': ['Radial'], 'mpn': '292SNS-T1366Z', 'mfr': 'Toko America Inc.', 'description': 'ELOH URHT HN001 TSUJDA ROTCUDNI', 'availability': 2967, 'series': '7KMM', 'lifecycle': 'Obsolete', 'inductance_ph': 1e-07, 'tolerance': '±6%', 'qminimum': 50.0, 'testfrequency_max_hz': 80000000.0, 'mounting_type': 'Through Hole', 'dimensions.length_mm': 7.8, 'dimensions.width_mm': 7.8, 'dimensions.height': '0.512\" (13.00mm)'}\n",
      "{'categories': ['Inductors, Coils, Chokes', 'Adjustable Inductors'], 'pricing': [{'quantity': 1, 'price': 0.71737, 'currency': 'USD'}], 'packaging': ['Tape & Reel (TR)'], 'sku': ['TKS2258TR-ND'], 'links': {'datasheet': 'https://media.digikey.com/pdf/Data%20Sheets/Toko%20PDFs/5CCD_Series.pdf', 'image': 'https://media.digikey.com/Photos/Toko%20Photos/614BN-9220Z=P3_tmb.jpg', 'url': 'https://www.digikey.com/product-detail/en/toko-america-inc/614BN-9220Z=P3/TKS2258TR-ND/108880'}, 'case': ['Nonstandard'], 'mpn': '614BN-9220Z=P3', 'mfr': 'Toko America Inc.', 'description': 'DMS HU22 ELBATSUJDA ROTCUDNI', 'availability': 16000, 'series': '5CCD', 'lifecycle': 'Obsolete', 'inductance_ph': 2.2e-05, 'tolerance': '±5%', 'qminimum': 45.0, 'testfrequency_max_hz': 2520000.0, 'mounting_type': 'Surface Mount', 'dimensions.length_mm': 6.199999999999999, 'dimensions.width_mm': 6.1000000000000005, 'dimensions.height': '0.217\" (5.50mm)'}\n",
      "{'categories': ['Inductors, Coils, Chokes', 'Adjustable Inductors'], 'pricing': [{'quantity': 1, 'price': 0.91, 'currency': 'USD'}], 'packaging': ['Cut Tape (CT)'], 'sku': ['TKS2258CT-ND'], 'links': {'datasheet': 'https://media.digikey.com/pdf/Data%20Sheets/Toko%20PDFs/5CCD_Series.pdf', 'image': 'https://media.digikey.com/Photos/Toko%20Photos/614BN-9220Z=P3_tmb.jpg', 'url': 'https://www.digikey.com/product-detail/en/toko-america-inc/614BN-9220Z=P3/TKS2258CT-ND/117567'}, 'case': ['Nonstandard'], 'mpn': '614BN-9220Z=P3', 'mfr': 'Toko America Inc.', 'description': 'DMS HU22 ELBATSUJDA ROTCUDNI', 'availability': 16718, 'series': '5CCD', 'lifecycle': 'Obsolete', 'inductance_ph': 2.2e-05, 'tolerance': '±5%', 'qminimum': 45.0, 'testfrequency_max_hz': 2520000.0, 'mounting_type': 'Surface Mount', 'dimensions.length_mm': 6.199999999999999, 'dimensions.width_mm': 6.1000000000000005, 'dimensions.height': '0.217\" (5.50mm)'}\n",
      "{'categories': ['Inductors, Coils, Chokes', 'Adjustable Inductors'], 'pricing': [{'quantity': 1, 'price': 0.8, 'currency': 'USD'}], 'packaging': ['Bulk'], 'sku': ['TK5007-ND'], 'links': {'datasheet': 'https://media.digikey.com/pdf/Data%20Sheets/Toko%20PDFs/5K_5KM.pdf', 'image': 'https://media.digikey.com/Photos/Toko%20Photos/294SN-T1014Z_tmb.jpg', 'url': 'https://www.digikey.com/product-detail/en/toko-america-inc/294SN-T1014Z/TK5007-ND/14205'}, 'case': ['Radial', 'Horizontal', '4 Leads'], 'mpn': '294SN-T1014Z', 'mfr': 'Toko America Inc.', 'description': 'ELOH URHT HN086 TSUJDA ROTCUDNI', 'availability': 5525, 'series': '5K', 'lifecycle': 'Obsolete', 'inductance_ph': 6.8e-07, 'tolerance': '±6%', 'qminimum': 45.0, 'testfrequency_max_hz': 45000000.0, 'mounting_type': 'Through Hole', 'dimensions.length_mm': 5.8999999999999995, 'dimensions.width_mm': 5.8999999999999995, 'dimensions.height': '0.244\" (6.20mm)'}\n",
      "{'categories': ['Inductors, Coils, Chokes', 'Adjustable Inductors'], 'pricing': [{'quantity': 1, 'price': 0.8, 'currency': 'USD'}], 'packaging': ['Bulk'], 'sku': ['TK5006-ND'], 'links': {'datasheet': 'https://media.digikey.com/pdf/Data%20Sheets/Toko%20PDFs/5K_5KM.pdf', 'image': 'https://media.digikey.com/Photos/Toko%20Photos/294SN-T1013Z_tmb.jpg', 'url': 'https://www.digikey.com/product-detail/en/toko-america-inc/294SN-T1013Z/TK5006-ND/61750'}, 'case': ['Radial', 'Horizontal', '4 Leads'], 'mpn': '294SN-T1013Z', 'mfr': 'Toko America Inc.', 'description': 'ELOH URHT HN074 TSUJDA ROTCUDNI', 'availability': 4475, 'series': '5K', 'lifecycle': 'Obsolete', 'inductance_ph': 4.7e-07, 'tolerance': '±6%', 'qminimum': 45.0, 'testfrequency_max_hz': 45000000.0, 'mounting_type': 'Through Hole', 'dimensions.length_mm': 5.8999999999999995, 'dimensions.width_mm': 5.8999999999999995, 'dimensions.height': '0.244\" (6.20mm)'}\n",
      "{'categories': ['Inductors, Coils, Chokes', 'Adjustable Inductors'], 'pricing': [{'quantity': 1, 'price': 0.24, 'currency': 'USD'}], 'packaging': ['Bulk'], 'sku': ['TK2724-ND'], 'links': {'datasheet': 'https://media.digikey.com/pdf/Data%20Sheets/Toko%20PDFs/mc120.pdf', 'image': 'https://media.digikey.com/Photos/Toko%20Photos/E526HN-100315_tmb.jpg', 'url': 'https://www.digikey.com/product-detail/en/toko-america-inc/E526HN-100315/TK2724-ND/25694'}, 'case': ['Radial'], 'mpn': 'E526HN-100315', 'mfr': 'Toko America Inc.', 'description': 'ELOH URHT HN04 TSUJDA ROTCUDNI', 'availability': 496, 'series': 'MC120', 'lifecycle': 'Obsolete', 'inductance_ph': 4e-08, 'tolerance': '±3%', 'qminimum': 100.0, 'testfrequency_max_hz': 100000000.0, 'mounting_type': 'Through Hole', 'dimensions.length_mm': 10.0, 'dimensions.width_mm': 10.0, 'dimensions.height': '0.512\" (13.00mm)'}\n",
      "{'categories': ['Inductors, Coils, Chokes', 'Adjustable Inductors'], 'pricing': [{'quantity': 1, 'price': 0.3, 'currency': 'USD'}], 'packaging': ['Bulk'], 'sku': ['TK2714-ND'], 'links': {'datasheet': 'https://media.digikey.com/pdf/Data%20Sheets/Toko%20PDFs/mc120.pdf', 'image': 'https://media.digikey.com/Photos/Toko%20Photos/E526HNA-100314_tmb.jpg', 'url': 'https://www.digikey.com/product-detail/en/toko-america-inc/E526HNA-100314/TK2714-ND/25664'}, 'case': ['Radial'], 'mpn': 'E526HNA-100314', 'mfr': 'Toko America Inc.', 'description': 'ELOH URHT HN031 TSUJDA ROTCUDNI', 'availability': 932, 'series': 'MC120', 'lifecycle': 'Obsolete', 'inductance_ph': 1.3e-07, 'tolerance': '±2%', 'qminimum': 110.0, 'testfrequency_max_hz': 100000000.0, 'mounting_type': 'Through Hole', 'dimensions.length_mm': 10.0, 'dimensions.width_mm': 10.0, 'dimensions.height': '0.512\" (13.00mm)'}\n",
      "{'categories': ['Inductors, Coils, Chokes', 'Adjustable Inductors'], 'pricing': [{'quantity': 1, 'price': 0.71, 'currency': 'USD'}], 'packaging': ['Bulk'], 'sku': ['E540SN-08001-ND'], 'links': {'image': 'https://media.digikey.com/Photos/Toko%20Photos/E540SN-08001_tmb.jpg', 'url': 'https://www.digikey.com/product-detail/en/toko-america-inc/E540SN-08001/E540SN-08001-ND/639092'}, 'case': ['Radial'], 'mpn': 'E540SN-08001', 'mfr': 'Toko America Inc.', 'description': 'ELOH URHT ELBATSUJDA ROTCUDNI', 'availability': 282, 'series': 'MC134', 'lifecycle': 'Obsolete', 'mounting_type': 'Through Hole', 'dimensions.length_mm': 7.3, 'dimensions.width_mm': 7.3, 'dimensions.height': '0.512\" (13.00mm)'}\n",
      "{'categories': ['Inductors, Coils, Chokes', 'Adjustable Inductors'], 'pricing': [{'quantity': 1, 'price': 0.74, 'currency': 'USD'}], 'packaging': ['Bulk'], 'sku': ['TK3005-ND'], 'links': {'image': 'https://media.digikey.com/Photos/Toko%20Photos/E540SNA-14002_tmb.jpg', 'url': 'https://www.digikey.com/product-detail/en/toko-america-inc/E540SNA-14002/TK3005-ND/25851'}, 'case': ['Radial'], 'mpn': 'E540SNA-14002', 'mfr': 'Toko America Inc.', 'description': 'ELOH URHT HN383 TSUJDA ROTCUDNI', 'availability': 148, 'series': 'MC134', 'lifecycle': 'Obsolete', 'inductance_ph': 3.83e-07, 'qminimum': 55.0, 'testfrequency_max_hz': 50000000.0, 'mounting_type': 'Through Hole', 'dimensions.length_mm': 13.0, 'dimensions.width_mm': 13.0, 'dimensions.height': '0.287\" (7.30mm)'}\n",
      "{'categories': ['Inductors, Coils, Chokes', 'Adjustable Inductors'], 'pricing': [{'quantity': 1, 'price': 0.86, 'currency': 'USD'}], 'packaging': ['Bulk'], 'sku': ['TK2707-ND'], 'links': {'datasheet': 'https://media.digikey.com/pdf/Data%20Sheets/Toko%20PDFs/mc120.pdf', 'image': 'https://media.digikey.com/Photos/Toko%20Photos/E526HNA-100300_tmb.jpg', 'url': 'https://www.digikey.com/product-detail/en/toko-america-inc/E526HNA-100300/TK2707-ND/11230'}, 'case': ['Radial'], 'mpn': 'E526HNA-100300', 'mfr': 'Toko America Inc.', 'description': 'ELOH URHT HN042 TSUJDA ROTCUDNI', 'availability': 900, 'series': 'MC120', 'lifecycle': 'Obsolete', 'inductance_ph': 2.4e-07, 'tolerance': '±3%', 'qminimum': 80.0, 'testfrequency_max_hz': 50000000.0, 'mounting_type': 'Through Hole', 'dimensions.length_mm': 10.0, 'dimensions.width_mm': 10.0, 'dimensions.height': '0.512\" (13.00mm)'}\n",
      "{'categories': ['Inductors, Coils, Chokes', 'Adjustable Inductors'], 'pricing': [{'quantity': 1, 'price': 0.9, 'currency': 'USD'}], 'packaging': ['Bulk'], 'sku': ['TK5004-ND'], 'links': {'datasheet': 'https://media.digikey.com/pdf/Data%20Sheets/Toko%20PDFs/5K_5KM.pdf', 'image': 'https://media.digikey.com/Photos/Toko%20Photos/294SN-T1011Z_tmb.jpg', 'url': 'https://www.digikey.com/product-detail/en/toko-america-inc/294SN-T1011Z/TK5004-ND/49738'}, 'case': ['Radial', 'Horizontal', '4 Leads'], 'mpn': '294SN-T1011Z', 'mfr': 'Toko America Inc.', 'description': 'ELOH URHT HN022 TSUJDA ROTCUDNI', 'availability': 922, 'series': '5K', 'lifecycle': 'Obsolete', 'inductance_ph': 2.2e-07, 'tolerance': '±6%', 'qminimum': 45.0, 'testfrequency_max_hz': 45000000.0, 'mounting_type': 'Through Hole', 'dimensions.length_mm': 5.8999999999999995, 'dimensions.width_mm': 5.8999999999999995, 'dimensions.height': '0.244\" (6.20mm)'}\n",
      "{'categories': ['Inductors, Coils, Chokes', 'Adjustable Inductors'], 'pricing': [{'quantity': 1, 'price': 0.98, 'currency': 'USD'}], 'packaging': ['Cut Tape (CT)'], 'sku': ['TKS2265CT-ND'], 'links': {'datasheet': 'https://media.digikey.com/pdf/Data%20Sheets/Toko%20PDFs/5CCD_Series.pdf', 'image': 'https://media.digikey.com/Photos/Toko%20Photos/614AN-9820Z=P3_tmb.jpg', 'url': 'https://www.digikey.com/product-detail/en/toko-america-inc/614AN-9820Z=P3/TKS2265CT-ND/117584'}, 'case': ['Nonstandard'], 'mpn': '614AN-9820Z=P3', 'mfr': 'Toko America Inc.', 'description': 'DMS HU28 ELBATSUJDA ROTCUDNI', 'availability': 541, 'series': '5CCD', 'lifecycle': 'Obsolete', 'inductance_ph': 8.2e-05, 'tolerance': '±5%', 'qminimum': 30.0, 'testfrequency_max_hz': 2520000.0, 'mounting_type': 'Surface Mount', 'dimensions.length_mm': 6.199999999999999, 'dimensions.width_mm': 6.1000000000000005, 'dimensions.height': '0.217\" (5.50mm)'}\n",
      "{'categories': ['Inductors, Coils, Chokes', 'Adjustable Inductors'], 'pricing': [{'quantity': 1, 'price': 1.06, 'currency': 'USD'}], 'packaging': ['Bulk'], 'sku': ['#292KNAS-T1028Z-ND'], 'links': {'image': 'https://media.digikey.com/Photos/Toko%20Photos/%23292KNAS-T1028Z_tmb.jpg', 'url': 'https://www.digikey.com/product-detail/en/toko-america-inc/292KNAS-T1028Z/292KNAS-T1028Z-ND/718515'}, 'case': ['Radial'], 'mpn': '#292KNAS-T1028Z', 'mfr': 'Toko America Inc.', 'description': 'ELOH URHT HN001 TSUJDA ROTCUDNI', 'availability': 198, 'series': '7KMM', 'lifecycle': 'Discontinued at Digi-Key', 'inductance_ph': 1e-07, 'tolerance': '±6%', 'qminimum': 35.0, 'testfrequency_max_hz': 50000000.0, 'mounting_type': 'Through Hole', 'dimensions.length_mm': 7.8, 'dimensions.width_mm': 7.8, 'dimensions.height': '0.512\" (13.00mm)'}\n",
      "{'categories': ['Inductors, Coils, Chokes', 'Adjustable Inductors'], 'pricing': [{'quantity': 1, 'price': 0.86, 'currency': 'USD'}], 'packaging': ['Bulk'], 'sku': ['TK2729-ND'], 'links': {'image': 'https://media.digikey.com/Photos/Toko%20Photos/E526HNSA-100059_tmb.jpg', 'url': 'https://www.digikey.com/product-detail/en/toko-america-inc/E526HNSA-100059/TK2729-ND/91173'}, 'case': [], 'mpn': 'E526HNSA-100059', 'mfr': 'Toko America Inc.', 'description': 'ELOH URHT HN573 TSUJDA ROTCUDNI', 'availability': 1, 'series': 'MC120', 'lifecycle': 'Obsolete', 'inductance_ph': 3.75e-07, 'mounting_type': 'Through Hole'}\n"
     ]
    }
   ],
   "source": [
    "input_data = json.load(open('data/digikey/inductors_coils_chokes__adjustable_inductors__page_0.json'))\n",
    "message = dictobj.MutableDictionaryObject(input_data)\n",
    "for part in message.parts:\n",
    "    #print(part.keys())\n",
    "    for key in list(part): \n",
    "        # apply norm\n",
    "        if key in mapping['digikey']:\n",
    "            #print(i)\n",
    "            #print(mapping['digikey'][i])\n",
    "            try:\n",
    "                if 'actions' in mapping['digikey'][key]:\n",
    "                    functions = mapping['digikey'][key]['actions']\n",
    "                    for f in functions:\n",
    "                        #print(f,key)\n",
    "                       #\n",
    "                        new_val = eval(\"n.\"+f+\"({})\".format(\"part['\"+key+\"']\"))\n",
    "                        #print(new_val)\n",
    "                        #print(i,f,new_val)\n",
    "                        part[key] = eval(\"n.\"+f+\"({})\".format(\"part['\"+key+\"']\"))\n",
    "                        \n",
    "\n",
    "            except:\n",
    "                raise ValueError(\"something wrong with functions\") \n",
    "            #check for new keys name\n",
    "            if isinstance(mapping['digikey'][key]['output_key'],list):\n",
    "                t_res =  dict(zip(mapping['digikey'][key]['output_key'], part[key]))\n",
    "                for k in t_res.keys():\n",
    "                    part[k] = t_res[k]\n",
    "                #print(list(zip(mapping['digikey'][key]['output_key'],part[key])))\n",
    "                part.pop(key)\n",
    "            else:\n",
    "                new_key = mapping['digikey'][key]['output_key']\n",
    "                part[new_key] =part.pop(key)\n",
    "\n",
    "        else:\n",
    "            print(\"{0} not in mapping\".format(i))\n",
    "\n",
    "\n",
    "    print(part)"
   ]
  },
  {
   "cell_type": "code",
   "execution_count": 11,
   "metadata": {},
   "outputs": [
    {
     "data": {
      "text/plain": [
       "{'actions': ['reverse'], 'output_key': 'description'}"
      ]
     },
     "execution_count": 11,
     "metadata": {},
     "output_type": "execute_result"
    }
   ],
   "source": [
    "mapping['digikey']['description']"
   ]
  },
  {
   "cell_type": "code",
   "execution_count": 12,
   "metadata": {},
   "outputs": [
    {
     "data": {
      "text/plain": [
       "'fdesfdgarts'"
      ]
     },
     "execution_count": 12,
     "metadata": {},
     "output_type": "execute_result"
    }
   ],
   "source": [
    "bla = 'stragdfsedf'\n",
    "#bla.decode(\"utf-8\", \"strict\")  \n",
    "n.reverse(bla)\n"
   ]
  },
  {
   "cell_type": "code",
   "execution_count": 13,
   "metadata": {},
   "outputs": [
    {
     "name": "stdout",
     "output_type": "stream",
     "text": [
      "cba\n"
     ]
    }
   ],
   "source": [
    "print(n.reverse(\"abc\"))"
   ]
  },
  {
   "cell_type": "code",
   "execution_count": 14,
   "metadata": {},
   "outputs": [
    {
     "data": {
      "text/plain": [
       "<function normalization.reverse>"
      ]
     },
     "execution_count": 14,
     "metadata": {},
     "output_type": "execute_result"
    }
   ],
   "source": [
    "n.reverse"
   ]
  },
  {
   "cell_type": "code",
   "execution_count": null,
   "metadata": {},
   "outputs": [],
   "source": []
  }
 ],
 "metadata": {
  "kernelspec": {
   "display_name": "Python 3",
   "language": "python",
   "name": "python3"
  },
  "language_info": {
   "codemirror_mode": {
    "name": "ipython",
    "version": 3
   },
   "file_extension": ".py",
   "mimetype": "text/x-python",
   "name": "python",
   "nbconvert_exporter": "python",
   "pygments_lexer": "ipython3",
   "version": "3.6.3"
  }
 },
 "nbformat": 4,
 "nbformat_minor": 2
}
